{
 "cells": [
  {
   "cell_type": "markdown",
   "metadata": {},
   "source": [
    "# Function"
   ]
  },
  {
   "cell_type": "code",
   "execution_count": 95,
   "metadata": {},
   "outputs": [],
   "source": [
    "import pandas as pd\n",
    "import numpy as np\n",
    "from sklearn.linear_model import LinearRegression\n",
    "signal = pd.read_pickle(\"./Signal_588000/20201208.txt\")\n",
    "#1/10000 cost\n",
    "#PNL"
   ]
  },
  {
   "cell_type": "code",
   "execution_count": 5,
   "metadata": {},
   "outputs": [],
   "source": [
    "def strategy_ret(ask_bid): # 用strategy得到的return\n",
    "    total_cost = 0\n",
    "    max_cost = 0\n",
    "    position = 0\n",
    "    time = 0\n",
    "    num_trans = 0\n",
    "    for abt in ask_bid:\n",
    "        if abt == 0:\n",
    "            continue;\n",
    "        elif abt > 0:\n",
    "            position += 1000;\n",
    "            total_cost += 1.0001 * 1000 * abt # (1+换手率) * 1手 * ask\n",
    "            num_trans += 1\n",
    "        elif abt < 0:\n",
    "            position -= 1000;\n",
    "            total_cost += 0.9999 * 1000 * abt #(1-换手率) * 1手 * bid\n",
    "            num_trans += 1\n",
    "        max_cost = max(max_cost, total_cost)\n",
    "    return [total_cost, position, max_cost, num_trans]"
   ]
  },
  {
   "cell_type": "code",
   "execution_count": 189,
   "metadata": {},
   "outputs": [],
   "source": [
    "def rolling_quantile(lst, rolling=300):\n",
    "    long = (lst > lst.rolling(window=rolling).quantile(0.9)) & (lst > 0)\n",
    "    short = (lst < lst.rolling(window=rolling).quantile(0.1)) & (lst < 0)\n",
    "    return long, short"
   ]
  },
  {
   "cell_type": "markdown",
   "metadata": {},
   "source": [
    "# Individual"
   ]
  },
  {
   "cell_type": "code",
   "execution_count": 190,
   "metadata": {},
   "outputs": [],
   "source": [
    "long, short = rolling_quantile(signal['PredictY'])\n",
    "long = long#.shift(3)\n",
    "short = short#.shift(3)\n",
    "ask = signal['AskPrice1']\n",
    "bid = signal['BidPrice1']"
   ]
  },
  {
   "cell_type": "code",
   "execution_count": 191,
   "metadata": {},
   "outputs": [],
   "source": [
    "net_ask_bid = ask*long - bid*short"
   ]
  },
  {
   "cell_type": "code",
   "execution_count": 192,
   "metadata": {
    "scrolled": true
   },
   "outputs": [],
   "source": [
    "[total_cost, position, max_cost, num_trans] = strategy_ret(net_ask_bid)"
   ]
  },
  {
   "cell_type": "code",
   "execution_count": 193,
   "metadata": {},
   "outputs": [
    {
     "data": {
      "text/plain": [
       "-483.76139999955194"
      ]
     },
     "execution_count": 193,
     "metadata": {},
     "output_type": "execute_result"
    }
   ],
   "source": [
    "position * signal['BidPrice1'][signal.shape[0] - 1] * 0.9999 - total_cost"
   ]
  },
  {
   "cell_type": "code",
   "execution_count": 194,
   "metadata": {},
   "outputs": [
    {
     "data": {
      "text/plain": [
       "166492.62419999967"
      ]
     },
     "execution_count": 194,
     "metadata": {},
     "output_type": "execute_result"
    }
   ],
   "source": [
    "max_cost"
   ]
  },
  {
   "cell_type": "markdown",
   "metadata": {},
   "source": [
    "# All"
   ]
  },
  {
   "cell_type": "code",
   "execution_count": 215,
   "metadata": {
    "scrolled": true
   },
   "outputs": [],
   "source": [
    "import os\n",
    "\n",
    "directory = \"./Signal_588000\"\n",
    "total_gain = 0\n",
    "num_win = 0\n",
    "total_loss = 0\n",
    "num_loss = 0\n",
    "lst_max_cost = []\n",
    "lst_net_value = []\n",
    "lst_date = []\n",
    "lst_num_trans = []\n",
    "lst_sdv = []\n",
    "for filename in os.listdir(directory):\n",
    "    lst_date.append(filename[0:8])\n",
    "    file = directory + '/' + filename\n",
    "    signal_temp = pd.read_pickle(file)\n",
    "    ask = signal_temp['AskPrice1']\n",
    "    bid = signal_temp['BidPrice1']\n",
    "    long, short = rolling_quantile(signal_temp['PredictY'], 8000)\n",
    "    net_ask_bid = ask*long - bid*short\n",
    "    [total_cost, position, max_cost, num_trans] = strategy_ret(net_ask_bid)\n",
    "    net_value = position * signal_temp['BidPrice1'][signal_temp.shape[0] - 1] * 0.9999 - total_cost\n",
    "    lst_net_value.append(net_value)\n",
    "    lst_max_cost.append(max_cost)\n",
    "    lst_num_trans.append(num_trans)\n",
    "    lst_sdv.append(np.std(signal_temp['Ret']))\n",
    "    if net_value > 0:\n",
    "        num_win += 1\n",
    "        total_gain += net_value\n",
    "    elif net_value <= 0:\n",
    "        num_loss += 1\n",
    "        total_loss -= net_value"
   ]
  },
  {
   "cell_type": "code",
   "execution_count": 216,
   "metadata": {
    "scrolled": true
   },
   "outputs": [
    {
     "ename": "ZeroDivisionError",
     "evalue": "division by zero",
     "output_type": "error",
     "traceback": [
      "\u001b[1;31m---------------------------------------------------------------------------\u001b[0m",
      "\u001b[1;31mZeroDivisionError\u001b[0m                         Traceback (most recent call last)",
      "\u001b[1;32m<ipython-input-216-add70ab4ed04>\u001b[0m in \u001b[0;36m<module>\u001b[1;34m\u001b[0m\n\u001b[1;32m----> 1\u001b[1;33m \u001b[0mtotal_gain\u001b[0m \u001b[1;33m/\u001b[0m \u001b[0mnum_win\u001b[0m \u001b[1;33m/\u001b[0m \u001b[1;33m(\u001b[0m\u001b[0mtotal_loss\u001b[0m \u001b[1;33m/\u001b[0m \u001b[0mnum_loss\u001b[0m\u001b[1;33m)\u001b[0m\u001b[1;33m\u001b[0m\u001b[1;33m\u001b[0m\u001b[0m\n\u001b[0m",
      "\u001b[1;31mZeroDivisionError\u001b[0m: division by zero"
     ]
    }
   ],
   "source": [
    "total_gain / num_win / (total_loss / num_loss)"
   ]
  },
  {
   "cell_type": "code",
   "execution_count": 198,
   "metadata": {
    "scrolled": true
   },
   "outputs": [],
   "source": [
    "result_588000 = pd.DataFrame({'date': lst_date, 'max cost': lst_max_cost, 'net value': lst_net_value, 'num trans': lst_num_trans, 'sdv': lst_sdv})\n",
    "result_588000.to_csv('result_588000.csv')"
   ]
  },
  {
   "cell_type": "code",
   "execution_count": 150,
   "metadata": {},
   "outputs": [
    {
     "data": {
      "text/html": [
       "<div>\n",
       "<style scoped>\n",
       "    .dataframe tbody tr th:only-of-type {\n",
       "        vertical-align: middle;\n",
       "    }\n",
       "\n",
       "    .dataframe tbody tr th {\n",
       "        vertical-align: top;\n",
       "    }\n",
       "\n",
       "    .dataframe thead th {\n",
       "        text-align: right;\n",
       "    }\n",
       "</style>\n",
       "<table border=\"1\" class=\"dataframe\">\n",
       "  <thead>\n",
       "    <tr style=\"text-align: right;\">\n",
       "      <th></th>\n",
       "      <th>date</th>\n",
       "      <th>max cost</th>\n",
       "      <th>net value</th>\n",
       "      <th>num trans</th>\n",
       "      <th>sdv</th>\n",
       "    </tr>\n",
       "  </thead>\n",
       "  <tbody>\n",
       "    <tr>\n",
       "      <td>0</td>\n",
       "      <td>20201130</td>\n",
       "      <td>92233.0902</td>\n",
       "      <td>-491.2495</td>\n",
       "      <td>627</td>\n",
       "      <td>0.000275</td>\n",
       "    </tr>\n",
       "    <tr>\n",
       "      <td>1</td>\n",
       "      <td>20201201</td>\n",
       "      <td>99994.6550</td>\n",
       "      <td>-31.7268</td>\n",
       "      <td>639</td>\n",
       "      <td>0.000218</td>\n",
       "    </tr>\n",
       "    <tr>\n",
       "      <td>2</td>\n",
       "      <td>20201202</td>\n",
       "      <td>69491.9668</td>\n",
       "      <td>-263.4014</td>\n",
       "      <td>605</td>\n",
       "      <td>0.000220</td>\n",
       "    </tr>\n",
       "    <tr>\n",
       "      <td>3</td>\n",
       "      <td>20201203</td>\n",
       "      <td>24300.9679</td>\n",
       "      <td>-107.6451</td>\n",
       "      <td>619</td>\n",
       "      <td>0.000233</td>\n",
       "    </tr>\n",
       "    <tr>\n",
       "      <td>4</td>\n",
       "      <td>20201204</td>\n",
       "      <td>74787.0682</td>\n",
       "      <td>-154.9702</td>\n",
       "      <td>678</td>\n",
       "      <td>0.000213</td>\n",
       "    </tr>\n",
       "    <tr>\n",
       "      <td>...</td>\n",
       "      <td>...</td>\n",
       "      <td>...</td>\n",
       "      <td>...</td>\n",
       "      <td>...</td>\n",
       "      <td>...</td>\n",
       "    </tr>\n",
       "    <tr>\n",
       "      <td>87</td>\n",
       "      <td>20210409</td>\n",
       "      <td>14570.6140</td>\n",
       "      <td>-11.3771</td>\n",
       "      <td>617</td>\n",
       "      <td>0.000222</td>\n",
       "    </tr>\n",
       "    <tr>\n",
       "      <td>88</td>\n",
       "      <td>20210412</td>\n",
       "      <td>27243.3142</td>\n",
       "      <td>-253.7915</td>\n",
       "      <td>623</td>\n",
       "      <td>0.000240</td>\n",
       "    </tr>\n",
       "    <tr>\n",
       "      <td>89</td>\n",
       "      <td>20210413</td>\n",
       "      <td>6418.0383</td>\n",
       "      <td>199.9987</td>\n",
       "      <td>647</td>\n",
       "      <td>0.000228</td>\n",
       "    </tr>\n",
       "    <tr>\n",
       "      <td>90</td>\n",
       "      <td>20210414</td>\n",
       "      <td>28359.2789</td>\n",
       "      <td>-156.5916</td>\n",
       "      <td>611</td>\n",
       "      <td>0.000216</td>\n",
       "    </tr>\n",
       "    <tr>\n",
       "      <td>91</td>\n",
       "      <td>20210415</td>\n",
       "      <td>12168.0375</td>\n",
       "      <td>-501.7424</td>\n",
       "      <td>639</td>\n",
       "      <td>0.000216</td>\n",
       "    </tr>\n",
       "  </tbody>\n",
       "</table>\n",
       "<p>92 rows × 5 columns</p>\n",
       "</div>"
      ],
      "text/plain": [
       "        date    max cost  net value  num trans       sdv\n",
       "0   20201130  92233.0902  -491.2495        627  0.000275\n",
       "1   20201201  99994.6550   -31.7268        639  0.000218\n",
       "2   20201202  69491.9668  -263.4014        605  0.000220\n",
       "3   20201203  24300.9679  -107.6451        619  0.000233\n",
       "4   20201204  74787.0682  -154.9702        678  0.000213\n",
       "..       ...         ...        ...        ...       ...\n",
       "87  20210409  14570.6140   -11.3771        617  0.000222\n",
       "88  20210412  27243.3142  -253.7915        623  0.000240\n",
       "89  20210413   6418.0383   199.9987        647  0.000228\n",
       "90  20210414  28359.2789  -156.5916        611  0.000216\n",
       "91  20210415  12168.0375  -501.7424        639  0.000216\n",
       "\n",
       "[92 rows x 5 columns]"
      ]
     },
     "execution_count": 150,
     "metadata": {},
     "output_type": "execute_result"
    }
   ],
   "source": [
    "result_588000 = pd.DataFrame({'date': lst_date, 'max cost': lst_max_cost, 'net value': lst_net_value, 'num trans': lst_num_trans, 'sdv': lst_sdv})\n",
    "result_588000"
   ]
  },
  {
   "cell_type": "code",
   "execution_count": 199,
   "metadata": {},
   "outputs": [],
   "source": [
    "reg = LinearRegression(normalize = True).fit([[x*1000000] for x in lst_sdv], result_588000['net value'])"
   ]
  },
  {
   "cell_type": "code",
   "execution_count": 200,
   "metadata": {},
   "outputs": [
    {
     "data": {
      "text/plain": [
       "array([2.7327592])"
      ]
     },
     "execution_count": 200,
     "metadata": {},
     "output_type": "execute_result"
    }
   ],
   "source": [
    "reg.coef_"
   ]
  },
  {
   "cell_type": "code",
   "execution_count": 201,
   "metadata": {},
   "outputs": [
    {
     "data": {
      "text/plain": [
       "0.12855660972207705"
      ]
     },
     "execution_count": 201,
     "metadata": {},
     "output_type": "execute_result"
    }
   ],
   "source": [
    "reg.score([[x*1000000] for x in lst_sdv], result_588000['net value'])"
   ]
  },
  {
   "cell_type": "code",
   "execution_count": 214,
   "metadata": {},
   "outputs": [],
   "source": [
    "result_588000 = result_588000.sort_values(by=['sdv'])"
   ]
  }
 ],
 "metadata": {
  "kernelspec": {
   "display_name": "Python 3",
   "language": "python",
   "name": "python3"
  },
  "language_info": {
   "codemirror_mode": {
    "name": "ipython",
    "version": 3
   },
   "file_extension": ".py",
   "mimetype": "text/x-python",
   "name": "python",
   "nbconvert_exporter": "python",
   "pygments_lexer": "ipython3",
   "version": "3.7.4"
  },
  "toc": {
   "base_numbering": 1,
   "nav_menu": {},
   "number_sections": true,
   "sideBar": true,
   "skip_h1_title": false,
   "title_cell": "Table of Contents",
   "title_sidebar": "Contents",
   "toc_cell": false,
   "toc_position": {},
   "toc_section_display": true,
   "toc_window_display": false
  }
 },
 "nbformat": 4,
 "nbformat_minor": 2
}
