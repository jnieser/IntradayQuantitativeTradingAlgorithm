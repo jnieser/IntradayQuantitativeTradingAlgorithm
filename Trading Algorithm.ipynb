{
 "cells": [
  {
   "cell_type": "markdown",
   "metadata": {},
   "source": [
    "# Function"
   ]
  },
  {
   "cell_type": "code",
   "execution_count": 285,
   "metadata": {},
   "outputs": [],
   "source": [
    "import pandas as pd\n",
    "import numpy as np\n",
    "signal = pd.read_pickle(\"C:/Users/86773/Desktop/Signal_588000/20201204.txt\")\n",
    "#1/10000 cost\n",
    "#PNL"
   ]
  },
  {
   "cell_type": "code",
   "execution_count": 250,
   "metadata": {},
   "outputs": [],
   "source": [
    "def strategy_ret(ask_bid): # 用strategy得到的return\n",
    "    total_cost = 0\n",
    "    max_cost = 0\n",
    "    position = 0\n",
    "    time = 0\n",
    "    num_trans = 0\n",
    "    hold = '' #是否在开着单\n",
    "    for abt in ask_bid:\n",
    "        if abt == 0:\n",
    "            continue;\n",
    "        elif abt > 0:\n",
    "            position += 1000;\n",
    "            total_cost += 1.0001 * 1000 * abt # (1+换手率) * 1手 * ask\n",
    "            num_trans += 1\n",
    "        elif abt < 0:\n",
    "            position -= 1000;\n",
    "            total_cost += 0.9999 * 1000 * abt #(1-换手率) * 1手 * bid\n",
    "            num_trans += 1\n",
    "        max_cost = max(max_cost, total_cost)\n",
    "    return [total_cost, position, max_cost, num_trans]"
   ]
  },
  {
   "cell_type": "code",
   "execution_count": 304,
   "metadata": {},
   "outputs": [],
   "source": [
    "def rolling_quantile(lst):\n",
    "    long = (lst >= lst.rolling(window=20).quantile(0.9))# & (lst > 0)\n",
    "    short = (lst <= lst.rolling(window=20).quantile(0.1))# & (lst < 0)\n",
    "    return long, short"
   ]
  },
  {
   "cell_type": "markdown",
   "metadata": {},
   "source": [
    "# Individual"
   ]
  },
  {
   "cell_type": "code",
   "execution_count": 305,
   "metadata": {},
   "outputs": [],
   "source": [
    "long, short = rolling_quantile(signal['PredictY'])\n",
    "long = long.shift(1)\n",
    "short = short.shift(1)\n",
    "ask = signal['AskPrice1']\n",
    "bid = signal['BidPrice1']"
   ]
  },
  {
   "cell_type": "code",
   "execution_count": 306,
   "metadata": {},
   "outputs": [],
   "source": [
    "net_ask_bid = ask*long - bid*short"
   ]
  },
  {
   "cell_type": "code",
   "execution_count": 307,
   "metadata": {
    "scrolled": false
   },
   "outputs": [
    {
     "data": {
      "text/plain": [
       "time\n",
       "2020-12-04 09:35:02      NaN\n",
       "2020-12-04 09:35:05        0\n",
       "2020-12-04 09:35:08        0\n",
       "2020-12-04 09:35:11        0\n",
       "2020-12-04 09:35:14        0\n",
       "                       ...  \n",
       "2020-12-04 14:44:46    1.409\n",
       "2020-12-04 14:44:49    1.409\n",
       "2020-12-04 14:44:52        0\n",
       "2020-12-04 14:44:55        0\n",
       "2020-12-04 14:44:58        0\n",
       "Length: 4499, dtype: object"
      ]
     },
     "execution_count": 307,
     "metadata": {},
     "output_type": "execute_result"
    }
   ],
   "source": [
    "net_ask_bid"
   ]
  },
  {
   "cell_type": "code",
   "execution_count": 308,
   "metadata": {
    "scrolled": true
   },
   "outputs": [],
   "source": [
    "[total_cost, position, max_cost, num_trans] = strategy_ret(net_ask_bid)"
   ]
  },
  {
   "cell_type": "code",
   "execution_count": 309,
   "metadata": {},
   "outputs": [
    {
     "data": {
      "text/plain": [
       "62594.07210000008"
      ]
     },
     "execution_count": 309,
     "metadata": {},
     "output_type": "execute_result"
    }
   ],
   "source": [
    "position * signal['BidPrice1'][signal.shape[0] - 1] * 0.9999 - total_cost"
   ]
  },
  {
   "cell_type": "code",
   "execution_count": 310,
   "metadata": {},
   "outputs": [
    {
     "data": {
      "text/plain": [
       "93681.60779999997"
      ]
     },
     "execution_count": 310,
     "metadata": {},
     "output_type": "execute_result"
    }
   ],
   "source": [
    "max_cost"
   ]
  },
  {
   "cell_type": "markdown",
   "metadata": {},
   "source": [
    "# All"
   ]
  },
  {
   "cell_type": "code",
   "execution_count": 311,
   "metadata": {
    "scrolled": true
   },
   "outputs": [],
   "source": [
    "import os\n",
    "\n",
    "directory = \"C:/Users/86773/Desktop/Signal_588000\"\n",
    "total_gain = 0\n",
    "num_win = 0\n",
    "total_loss = 0\n",
    "num_loss = 0\n",
    "lst_max_cost = []\n",
    "lst_net_value = []\n",
    "lst_date = []\n",
    "lst_num_trans = []\n",
    "lst_sdv = []\n",
    "for filename in os.listdir(directory):\n",
    "    lst_date.append(filename[0:8])\n",
    "    file = directory + '/' + filename\n",
    "    signal_temp = pd.read_pickle(file)\n",
    "    ask = signal_temp['AskPrice1']\n",
    "    bid = signal_temp['BidPrice1']\n",
    "    long, short = rolling_quantile(signal_temp['PredictY'])\n",
    "    net_ask_bid = ask*long - bid*short\n",
    "    [total_cost, position, max_cost, num_trans] = strategy_ret(net_ask_bid)\n",
    "    net_value = position * signal_temp['BidPrice1'][signal_temp.shape[0] - 1] * 0.9999 - total_cost\n",
    "    lst_net_value.append(net_value)\n",
    "    lst_max_cost.append(max_cost)\n",
    "    lst_num_trans.append(num_trans)\n",
    "    lst_sdv.append(np.std(signal_temp['Ret']))\n",
    "    if net_value > 0:\n",
    "        num_win += 1\n",
    "        total_gain += net_value\n",
    "    elif net_value <= 0:\n",
    "        num_loss += 1\n",
    "        total_loss -= net_value"
   ]
  },
  {
   "cell_type": "code",
   "execution_count": 312,
   "metadata": {
    "scrolled": true
   },
   "outputs": [
    {
     "data": {
      "text/plain": [
       "70.85200848605106"
      ]
     },
     "execution_count": 312,
     "metadata": {},
     "output_type": "execute_result"
    }
   ],
   "source": [
    "total_gain / num_win / (total_loss / num_loss)"
   ]
  },
  {
   "cell_type": "code",
   "execution_count": 313,
   "metadata": {
    "scrolled": true
   },
   "outputs": [],
   "source": [
    "result_588000 = pd.DataFrame({'date': lst_date, 'max cost': lst_max_cost, 'net value': lst_net_value, 'num trans': lst_num_trans, 'sdv': lst_sdv})\n",
    "result_588000.to_csv('result_588000.csv')"
   ]
  },
  {
   "cell_type": "code",
   "execution_count": null,
   "metadata": {},
   "outputs": [],
   "source": []
  }
 ],
 "metadata": {
  "kernelspec": {
   "display_name": "Python 3",
   "language": "python",
   "name": "python3"
  },
  "language_info": {
   "codemirror_mode": {
    "name": "ipython",
    "version": 3
   },
   "file_extension": ".py",
   "mimetype": "text/x-python",
   "name": "python",
   "nbconvert_exporter": "python",
   "pygments_lexer": "ipython3",
   "version": "3.7.4"
  },
  "toc": {
   "base_numbering": 1,
   "nav_menu": {},
   "number_sections": true,
   "sideBar": true,
   "skip_h1_title": false,
   "title_cell": "Table of Contents",
   "title_sidebar": "Contents",
   "toc_cell": false,
   "toc_position": {},
   "toc_section_display": true,
   "toc_window_display": false
  }
 },
 "nbformat": 4,
 "nbformat_minor": 2
}
